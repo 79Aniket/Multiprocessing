{
 "cells": [
  {
   "cell_type": "markdown",
   "id": "a69fee28-f41c-4852-b90e-c030531eb178",
   "metadata": {},
   "source": [
    "## Q1. What is multiprocessing in python? Why is it useful?"
   ]
  },
  {
   "cell_type": "markdown",
   "id": "610ecc64-15bd-41db-a4dc-fd1a9b9ef08d",
   "metadata": {},
   "source": [
    "## Multiprocessing refers to the ability of a system to support more than one processor at the same time. Applications in a multiprocessing system are broken to smaller routines that run independently. The operating system allocates these threads to the processors improving performance of the system.\n",
    "## Consider a computer system with a single processor. If it is assigned several processes at the same time, it will have to interrupt each task and switch briefly to another, to keep all of the processes going.\n",
    "## This situation is just like a chef working in a kitchen alone. He has to do several tasks like baking, stirring, kneading dough, etc.\n",
    "## So the gist is that: The more tasks you must do at once, the more difficult it gets to keep track of them all, and keeping the timing right becomes more of a challenge.\n",
    "## This is where the concept of multiprocessing arises!\n",
    "## A multiprocessing system can have:\n",
    "## multiprocessor, i.e. a computer with more than one central processor.\n",
    "## multi-core processor, i.e. a single computing component with two or more independent actual processing units (called “cores”).\n",
    "## Here, the CPU can easily executes several tasks at once, with each task using its own processor.\n",
    "## It is just like the chef in last situation being assisted by his assistants. Now, they can divide the tasks among themselves and chef doesn’t need to switch between his tasks.\n"
   ]
  },
  {
   "cell_type": "code",
   "execution_count": null,
   "id": "f69a784c-5209-4a1e-b582-3dd8601c36f6",
   "metadata": {},
   "outputs": [],
   "source": []
  },
  {
   "cell_type": "markdown",
   "id": "07f0b192-185a-4884-a1fe-c39a8ed20840",
   "metadata": {},
   "source": [
    "## Q2. What are the differences between multiprocessing and multithreading?"
   ]
  },
  {
   "cell_type": "markdown",
   "id": "e4a09d5b-180a-4a86-856f-bf81b47f2ce1",
   "metadata": {},
   "source": [
    "# MultiProcessing:\n",
    "\n",
    "## In Multiprocessing, CPUs are added for increasing computing power.\n",
    "## In Multiprocessing, Many processes are executed simultaneously.\n",
    "## Multiprocessing are classified into Symmetric and Asymmetric.\n",
    "##  In Multiprocessing, Process creation is a time-consuming process.\n",
    "##  In Multiprocessing, every process owned a separate address space.\n",
    "\n",
    "# MultiThreading:\n",
    "\n",
    "## While In Multithreading, many threads are created of a single process for increasing computing power.\n",
    "## While in multithreading, many threads of a process are executed simultaneously.\n",
    "## While Multithreading is not classified in any categories.\n",
    "## While in Multithreading, process creation is according to economical.\n",
    "## While in Multithreading, a common address space is shared by all the threads.\n"
   ]
  },
  {
   "cell_type": "code",
   "execution_count": null,
   "id": "500a7068-f0be-42cf-9262-8a2980156154",
   "metadata": {},
   "outputs": [],
   "source": []
  },
  {
   "cell_type": "markdown",
   "id": "6ab1c821-85ff-4dbb-b69e-c177fd110ba8",
   "metadata": {},
   "source": [
    "## Q3. Write a python code to create a process using the multiprocessing module."
   ]
  },
  {
   "cell_type": "code",
   "execution_count": 1,
   "id": "a620b070-f380-465a-addb-5a58bcdea882",
   "metadata": {},
   "outputs": [
    {
     "name": "stdout",
     "output_type": "stream",
     "text": [
      "this is my main program\n",
      "This is a multiprocessing prog\n"
     ]
    }
   ],
   "source": [
    "import multiprocessing\n",
    "\n",
    "def test():\n",
    "    print(\"This is a multiprocessing prog\")\n",
    "    \n",
    "if __name__ == \"__main__\":\n",
    "    m=multiprocessing.Process(target=test)\n",
    "    print(\"this is my main program\")\n",
    "    m.start()\n",
    "    m.join()"
   ]
  },
  {
   "cell_type": "code",
   "execution_count": null,
   "id": "e42608b7-6c78-4254-a8b1-993d48d9a097",
   "metadata": {},
   "outputs": [],
   "source": []
  },
  {
   "cell_type": "markdown",
   "id": "2246a4cd-7fdf-4dca-bcb0-0d64a594d7c0",
   "metadata": {},
   "source": [
    "## Q4. What is a multiprocessing pool in python? Why is it used?"
   ]
  },
  {
   "cell_type": "code",
   "execution_count": 2,
   "id": "1500ee9f-9ac3-4263-ab41-ee9eb694cab7",
   "metadata": {},
   "outputs": [
    {
     "name": "stdout",
     "output_type": "stream",
     "text": [
      "[4, 9, 25, 36, 4, 25, 36, 178929]\n"
     ]
    }
   ],
   "source": [
    "def square(n):\n",
    "    return n**2\n",
    "\n",
    "if __name__ == \"__main__\":\n",
    "    with multiprocessing.Pool(processes=5) as p:\n",
    "        out = p.map(square,[2,3,5,6,2,5,6,423])\n",
    "        print(out)"
   ]
  },
  {
   "cell_type": "markdown",
   "id": "962b7b66-3ed3-44f3-80ab-1f730fcc77cc",
   "metadata": {},
   "source": [
    "## Q5. How can we create a pool of worker processes in python using the multiprocessing module?"
   ]
  },
  {
   "cell_type": "code",
   "execution_count": 3,
   "id": "09ef14e5-3fb8-47e4-b218-d8f5d3da9ade",
   "metadata": {},
   "outputs": [
    {
     "name": "stdout",
     "output_type": "stream",
     "text": [
      "[2, 4, 6, 8, 10]\n"
     ]
    }
   ],
   "source": [
    "import multiprocessing\n",
    "\n",
    "def worker_function(task):\n",
    "    result = task * 2\n",
    "    return result\n",
    "\n",
    "if __name__ == '__main__':\n",
    "    num_workers = 4 \n",
    "    pool = multiprocessing.Pool(processes=num_workers)\n",
    "\n",
    "\n",
    "    tasks = [1, 2, 3, 4, 5]\n",
    "\n",
    "\n",
    "    results = pool.map(worker_function, tasks)\n",
    "\n",
    "    pool.close()\n",
    "    pool.join()\n",
    "\n",
    "    print(results)"
   ]
  },
  {
   "cell_type": "markdown",
   "id": "52598ce8-c0cd-455e-a2b1-a2ff2fd7433e",
   "metadata": {},
   "source": [
    "## Q6. Write a python program to create 4 processes, each process should print a different number using the multiprocessing module in python."
   ]
  },
  {
   "cell_type": "code",
   "execution_count": 4,
   "id": "c7424c39-06e9-44f6-8c06-8c11d7485ec2",
   "metadata": {},
   "outputs": [
    {
     "name": "stdout",
     "output_type": "stream",
     "text": [
      "Process 1: I am printing 1.\n",
      "Process 2: I am printing 2.\n",
      "Process 3: I am printing 3.\n",
      "Process 4: I am printing 4.\n"
     ]
    }
   ],
   "source": [
    "import multiprocessing\n",
    "\n",
    "def print_number(number):\n",
    "    print(f\"Process {number}: I am printing {number}.\")\n",
    "\n",
    "if __name__ == '__main__':\n",
    "    processes = []\n",
    "    for i in range(4):\n",
    "        process = multiprocessing.Process(target=print_number, args=(i+1,))\n",
    "        processes.append(process)\n",
    "        process.start()\n",
    "\n",
    "    for process in processes:\n",
    "        process.join()"
   ]
  },
  {
   "cell_type": "code",
   "execution_count": null,
   "id": "bb0e875f-1740-4c66-937a-f7d58fb0abee",
   "metadata": {},
   "outputs": [],
   "source": []
  }
 ],
 "metadata": {
  "kernelspec": {
   "display_name": "Python 3 (ipykernel)",
   "language": "python",
   "name": "python3"
  },
  "language_info": {
   "codemirror_mode": {
    "name": "ipython",
    "version": 3
   },
   "file_extension": ".py",
   "mimetype": "text/x-python",
   "name": "python",
   "nbconvert_exporter": "python",
   "pygments_lexer": "ipython3",
   "version": "3.10.8"
  }
 },
 "nbformat": 4,
 "nbformat_minor": 5
}
